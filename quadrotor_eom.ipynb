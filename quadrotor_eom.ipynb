{
 "cells": [
  {
   "cell_type": "markdown",
   "metadata": {},
   "source": [
    "# Quadrotor Equations of Motion\n",
    "\n",
    "Multirotors are underactuated aerial robots that consist of multiple motor/propeller combinations. A quadrotor has four motors, as shown in the below figure."
   ]
  },
  {
   "cell_type": "markdown",
   "metadata": {},
   "source": [
    "Figure"
   ]
  },
  {
   "cell_type": "markdown",
   "metadata": {},
   "source": [
    "The quadrotor equations of motion consist of $6$ degrees of freedom (DOF) and $12$ ordinary differential equations ($6$ are kinematic and $6$ are dynamic). The quadrotor is modelled as a freely-rotating rigid body evolving in $\\mathcal{M} = \\mathbb{R}^3 \\times \\text{SO}(3)$."
   ]
  },
  {
   "cell_type": "markdown",
   "metadata": {},
   "source": [
    "Note that $\\text{SO}(3)$ is a matrix Lie group that describes the orientation of rigid body in 3D space and is not isomorphic to $\\mathbb{R}^3$. However, because Lie groups are smooth (i.e., differentiable) manifolds, there is an atlas of charts (i.e., homemorphisms) that allow the manifold to be locally described as a Euclidean space. A popular set of local parameterizations are the intuitive Euler angles, of which there are twelve. We will use the 3-2-1 ($\\psi$-$\\theta$-$\\phi$) Euler angle representation as is common in aerospace with first a yaw rotation about $\\mathbf{k}$, a pitch rotation about $\\mathbf{j}$, and then a roll rotation about $\\mathbf{i}$. Additionally, we assume that the roll, pitch, and yaw of the quadrotor are small -- a logical assumption for the smooth trajectories of typical maneuvers. More precisely, we have that\n",
    "\n",
    "$$\n",
    "\\phi \\in [0, 2\\pi) \\subset \\mathbb{R} \\\\\n",
    "\\theta \\in (-\\pi/2, \\pi/2) \\subset \\mathbb{R} \\\\\n",
    "\\psi \\in [0, 2\\pi) \\subset \\mathbb{R}.\n",
    "$$\n",
    "\n",
    "Thus, the state of the quadrotor is given by $\\mathbf{x} = \\begin{bmatrix} x & y & z & \\phi & \\theta & \\psi \\end{bmatrix}^\\top \\in \\mathbb{R}^6$."
   ]
  },
  {
   "cell_type": "markdown",
   "metadata": {},
   "source": [
    "## Coordinate Frames\n",
    "\n",
    "There are two coordinate frames of interest: the inertial frame and the body frame."
   ]
  },
  {
   "cell_type": "code",
   "execution_count": 3,
   "metadata": {},
   "outputs": [],
   "source": [
    "%matplotlib inline\n",
    "import numpy as np\n",
    "import matplotlib.pyplot as plt\n",
    "\n",
    "class Quadrotor(object):\n",
    "    \"\"\"Quadrotor\n",
    "        \n",
    "    This class models the physical quadrotor vehicle evolving in SE(3).\n",
    "    \"\"\"\n",
    "    def __init__(self):\n",
    "        pass\n",
    "    \n",
    "    \n",
    "    def update(self, u):\n",
    "        pass"
   ]
  }
 ],
 "metadata": {
  "kernelspec": {
   "display_name": "Python 3",
   "language": "python",
   "name": "python3"
  },
  "language_info": {
   "codemirror_mode": {
    "name": "ipython",
    "version": 3
   },
   "file_extension": ".py",
   "mimetype": "text/x-python",
   "name": "python",
   "nbconvert_exporter": "python",
   "pygments_lexer": "ipython3",
   "version": "3.5.2"
  }
 },
 "nbformat": 4,
 "nbformat_minor": 2
}
