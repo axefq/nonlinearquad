{
 "cells": [
  {
   "cell_type": "markdown",
   "metadata": {},
   "source": [
    "# Quadrotor Simulator\n",
    "\n",
    "In order to easily simulate different algorithms, a simulation test bed must be created. This Python class deals with the plumbing between the controller, estimation, and the model of a quadrotor system. This notebook also provides abstract base classes for `Controller` and `Estimator`."
   ]
  },
  {
   "cell_type": "code",
   "execution_count": 1,
   "metadata": {},
   "outputs": [],
   "source": [
    "%%capture\n",
    "# Load the quadrotor simulator from a previous notebook\n",
    "%run quadrotor_model.ipynb"
   ]
  },
  {
   "cell_type": "code",
   "execution_count": 2,
   "metadata": {},
   "outputs": [],
   "source": [
    "%matplotlib inline\n",
    "import numpy as np\n",
    "import matplotlib.pyplot as plt"
   ]
  },
  {
   "cell_type": "code",
   "execution_count": 3,
   "metadata": {},
   "outputs": [],
   "source": [
    "class Controller(object):\n",
    "    \"\"\"Controller\n",
    "    \"\"\"\n",
    "    def __init__(self):\n",
    "        pass\n",
    "    \n",
    "    def __str__(self):\n",
    "        return \"Manual\"\n",
    "    \n",
    "    def update(self, Ts):\n",
    "        return np.array([[0, 0, 0, 0]]).T"
   ]
  },
  {
   "cell_type": "code",
   "execution_count": 4,
   "metadata": {},
   "outputs": [],
   "source": [
    "class Estimator(object):\n",
    "    \"\"\"Estimator\n",
    "    \"\"\"\n",
    "    def __init__(self):\n",
    "        self.use_truth = True\n",
    "        \n",
    "    def __str__(self):\n",
    "        return \"Truth\"\n",
    "    \n",
    "    def update(self, Ts):\n",
    "        pass"
   ]
  },
  {
   "cell_type": "code",
   "execution_count": 5,
   "metadata": {},
   "outputs": [],
   "source": [
    "class Simulator(object):\n",
    "    \"\"\"Simulator\n",
    "        \n",
    "    This class deals with the high-level simulation plumbing for a quadrotor system\n",
    "    \"\"\"\n",
    "    def __init__(self, quad=None, ctrl=None, estm=None):\n",
    "        self.quad = quad if quad else Quadrotor()\n",
    "        self.ctrl = ctrl if ctrl else Controller()\n",
    "        self.estm = estm if estm else Estimator()\n",
    "        \n",
    "    def __str__(self):\n",
    "        s  = \"Simulation\"\n",
    "        return s\n",
    "    \n",
    "    def _step(self):\n",
    "        pass\n",
    "    \n",
    "    def run(self, Tf, Ts=0.01):\n",
    "        \n",
    "        # How many iterations are needed\n",
    "        N = int(Tf/Ts)\n",
    "        \n",
    "        for i in range(N):\n",
    "            # determine control\n",
    "            u = self.ctrl.update(Ts)\n",
    "                      \n",
    "            # actuate physical model\n",
    "            self.quad.update(u, Ts)\n",
    "            \n",
    "            # run estimator\n",
    "            self.estm.update(Ts)\n",
    "    \n",
    "    def plot(self):\n",
    "        pass"
   ]
  },
  {
   "cell_type": "code",
   "execution_count": 6,
   "metadata": {
    "scrolled": true
   },
   "outputs": [
    {
     "name": "stdout",
     "output_type": "stream",
     "text": [
      "Quadrotor state after 500 iters:\n",
      "\tr: [[   0.         0.       122.37975]].T\n",
      "\tPhi: [[ 0.  0.  0.]].T\n",
      "\tv: [[  0.     0.    49.05]].T\n",
      "\tomega: [[ 0.  0.  0.]].T\n",
      "\n"
     ]
    }
   ],
   "source": [
    "sim = Simulator()\n",
    "sim.run(5, Ts=0.01)\n",
    "sim.plot()\n",
    "\n",
    "print(sim.quad)"
   ]
  }
 ],
 "metadata": {
  "kernelspec": {
   "display_name": "Python 3",
   "language": "python",
   "name": "python3"
  },
  "language_info": {
   "codemirror_mode": {
    "name": "ipython",
    "version": 3
   },
   "file_extension": ".py",
   "mimetype": "text/x-python",
   "name": "python",
   "nbconvert_exporter": "python",
   "pygments_lexer": "ipython3",
   "version": "3.5.2"
  }
 },
 "nbformat": 4,
 "nbformat_minor": 2
}
