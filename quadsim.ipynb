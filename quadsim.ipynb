{
 "cells": [
  {
   "cell_type": "markdown",
   "metadata": {},
   "source": [
    "# Quadrotor Simulator\n",
    "\n",
    "In order to easily simulate different algorithms, a simulation test bed must be created. This Python class deals with the plumbing between the controller, estimation, and the model of a quadrotor system. This notebook also provides abstract base classes for `Controller` and `Estimator`."
   ]
  },
  {
   "cell_type": "code",
   "execution_count": 3,
   "metadata": {},
   "outputs": [],
   "source": [
    "%%capture\n",
    "# Load the quadrotor simulator from a previous notebook\n",
    "%run quadrotor_model.ipynb"
   ]
  },
  {
   "cell_type": "code",
   "execution_count": 5,
   "metadata": {},
   "outputs": [],
   "source": [
    "%matplotlib inline\n",
    "import numpy as np\n",
    "import matplotlib.pyplot as plt"
   ]
  },
  {
   "cell_type": "code",
   "execution_count": 6,
   "metadata": {},
   "outputs": [],
   "source": [
    "class Controller(object):\n",
    "    \"\"\"Controller\n",
    "    \"\"\"\n",
    "    def __init__(self):\n",
    "        pass"
   ]
  },
  {
   "cell_type": "code",
   "execution_count": 15,
   "metadata": {},
   "outputs": [],
   "source": [
    "class Estimator(object):\n",
    "    \"\"\"Estimator\n",
    "    \"\"\"\n",
    "    def __init__(self):\n",
    "        self.use_truth = True\n",
    "        \n",
    "    def __str__(self):\n",
    "        return \"Truth\""
   ]
  },
  {
   "cell_type": "code",
   "execution_count": 12,
   "metadata": {},
   "outputs": [],
   "source": [
    "class Simulator(object):\n",
    "    \"\"\"Simulator\n",
    "        \n",
    "    This class deals with the high-level simulation plumbing for a quadrotor system\n",
    "    \"\"\"\n",
    "    def __init__(self, quad=Quadrotor(), ctrl=Controller(), estm=Estimator()):\n",
    "        self.quad = quad\n",
    "        self.ctrl = ctrl\n",
    "        self.estm = estm\n",
    "        \n",
    "    def __str__(self):\n",
    "        s  = \"Simulation\"\n",
    "        return s\n",
    "    \n",
    "    def _step(self):\n",
    "        pass\n",
    "    \n",
    "    def run(self, Tf, Ts=0.01):\n",
    "        pass"
   ]
  },
  {
   "cell_type": "code",
   "execution_count": 13,
   "metadata": {},
   "outputs": [],
   "source": [
    "sim = Simulator()"
   ]
  }
 ],
 "metadata": {
  "kernelspec": {
   "display_name": "Python 3",
   "language": "python",
   "name": "python3"
  },
  "language_info": {
   "codemirror_mode": {
    "name": "ipython",
    "version": 3
   },
   "file_extension": ".py",
   "mimetype": "text/x-python",
   "name": "python",
   "nbconvert_exporter": "python",
   "pygments_lexer": "ipython3",
   "version": "3.5.2"
  }
 },
 "nbformat": 4,
 "nbformat_minor": 2
}
