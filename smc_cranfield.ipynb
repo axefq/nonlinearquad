{
 "cells": [
  {
   "cell_type": "code",
   "execution_count": 1,
   "metadata": {},
   "outputs": [
    {
     "data": {
      "text/html": [
       "<style>.impl-inner{background-color:#e4ffe6} .impl-outer{background-color:#e4ebff} .text_cell_render p { text-align: justify; text-justify: inter-word;}</style>"
      ],
      "text/plain": [
       "<IPython.core.display.HTML object>"
      ]
     },
     "execution_count": 1,
     "metadata": {},
     "output_type": "execute_result"
    }
   ],
   "source": [
    "from IPython.core.display import HTML\n",
    "HTML('<style>.impl-inner{background-color:#e4ffe6} .impl-outer{background-color:#e4ebff} .text_cell_render p { text-align: justify; text-justify: inter-word;}</style>')"
   ]
  },
  {
   "cell_type": "markdown",
   "metadata": {},
   "source": [
    "# Sliding Mode Control\n"
   ]
  },
  {
   "cell_type": "markdown",
   "metadata": {},
   "source": [
    "This notebook discusses and implements a sliding mode controller for the attitude control of a quadrotor. The discussion follows the 2016 work of Shaik and Whidborne from Cranfield, UK [1]. An error representation is used to enable tracking of trajectories in $\\phi$, $\\theta$, $\\psi$, or $r_z$. Note that there is currently no outer loop control of the quadrotor."
   ]
  },
  {
   "cell_type": "markdown",
   "metadata": {},
   "source": [
    "## Quadrotor Model\n",
    "\n",
    "The derivation of the standard quadrotor model used herein can be found in the [Quadrotor Model](quadrotor_model.ipynb) notebook. We use the form with inertial translational kinematics and dynamics, and it is restated below, with the state defined as\n",
    "\\begin{align}\n",
    "x &\\triangleq\n",
    "\\begin{bmatrix} r_x & r_y & r_z & \\dot{r}_x & \\dot{r}_y & \\dot{r}_z & \\phi & \\theta & \\psi & p & q & r \\end{bmatrix}^\\top,\n",
    "\\end{align}\n",
    "\n",
    "which evolves with the following simplified dynamics (i.e., $\\Gamma\\approx I_{3\\times 3}$ so that we can easily perform control)\n",
    "\n",
    "\\begin{equation}\n",
    "x =\n",
    "\\begin{bmatrix} \\dot{r}_x \\\\ \\dot{r}_y \\\\ \\dot{r}_z \\\\ \\ddot{r}_x \\\\ \\ddot{r}_y \\\\ \\ddot{r}_z \\\\ \\dot{\\phi} \\\\ \\dot{\\theta} \\\\ \\dot{\\psi} \\\\ \\dot{p} \\\\ \\dot{q} \\\\ \\dot{r} \\end{bmatrix} =\n",
    "\\begin{bmatrix}\n",
    "\\dot{r}_x \\\\ \\dot{r}_y \\\\ \\dot{r}_z \\\\\n",
    "-\\frac{u_1}{m}(\\cos\\phi\\sin\\theta\\cos\\psi+\\sin\\phi\\sin\\psi) \\\\\n",
    "-\\frac{u_1}{m}(\\cos\\phi\\sin\\theta\\sin\\psi-\\sin\\phi\\sin\\psi) \\\\\n",
    "g-\\frac{u_1}{m}(\\cos\\phi\\cos\\theta) \\\\\n",
    "p \\\\ q \\\\ r \\\\\n",
    "\\frac{J_y - J_z}{J_x} qr + \\frac{1}{J_x} u_2 \\\\\n",
    "\\frac{J_z - J_x}{J_y} pr + \\frac{1}{J_y} u_3 \\\\\n",
    "\\frac{J_x - J_y}{J_z} pq + \\frac{1}{J_z} u_4\n",
    "\\end{bmatrix}.\n",
    "\\end{equation}\n",
    "\n",
    "<!--\n",
    "\\begin{equation}\n",
    "x =\n",
    "\\begin{bmatrix} \\dot{r_x} \\\\ \\dot{r_y} \\\\ \\dot{r_z} \\\\ \\ddot{r_x} \\\\ \\ddot{r_y} \\\\ \\ddot{r_z} \\\\ \\dot{\\phi} \\\\ \\dot{\\theta} \\\\ \\dot{\\psi} \\\\ \\dot{p} \\\\ \\dot{q} \\\\ \\dot{r} \\end{bmatrix} =\n",
    "\\begin{bmatrix}\n",
    "x_4 \\\\ x_5 \\\\ x_6 \\\\\n",
    "-\\frac{u_1}{m}(\\cos x_7\\sin x_8\\cos x_9+\\sin x_7\\sin x_9) \\\\\n",
    "-\\frac{u_1}{m}(\\cos x_7\\sin x_8\\sin x_9-\\sin x_7\\sin x_9) \\\\\n",
    "g-\\frac{u_1}{m}(\\cos x_7\\cos x_8) \\\\\n",
    "x_{10} \\\\ x_{11} \\\\ x_{12} \\\\\n",
    "\\frac{J_y - J_z}{J_x} x_{11} x_{12} + \\frac{1}{J_x} u_2 \\\\\n",
    "\\frac{J_z - J_x}{J_y} x_{10} x_{12} + \\frac{1}{J_y} u_3 \\\\\n",
    "\\frac{J_x - J_y}{J_z} x_{10} x_{11} + \\frac{1}{J_z} u_4\n",
    "\\end{bmatrix}.\n",
    "\\end{equation}\n",
    "-->\n",
    "\n",
    "The input to this system is defined as\n",
    "\\begin{align}\n",
    "u &\\triangleq\n",
    "\\begin{bmatrix} T & \\tau_\\phi & \\tau_\\theta & \\tau_\\psi \\end{bmatrix}^\\top.\n",
    "\\end{align}"
   ]
  },
  {
   "cell_type": "markdown",
   "metadata": {},
   "source": [
    "## Shaik's Implementation\n",
    "\n",
    "In Shaik [1], four scalar sliding surfaces are defined as\n",
    "$$\n",
    "\\begin{equation}\n",
    "s_\\alpha = \\dot{e}_\\alpha + \\lambda_\\alpha e_\\alpha = 0,\n",
    "\\end{equation}\n",
    "$$\n",
    "where $\\lambda_\\alpha$ is a tuning gain and the relevant tracking error is defined as $e_\\alpha = \\alpha^d - \\alpha$. The variable $\\alpha$ is used as a placeholder for one of the relevant states: $\\phi$, $\\theta$, $\\psi$, or $r_z$. The time derivative of the sliding manifold is\n",
    "$$\n",
    "\\begin{equation}\n",
    "\\dot{s}_\\alpha = -f -u + \\ddot\\alpha^d + \\lambda_\\alpha \\dot{e}_\\alpha.\n",
    "\\end{equation}\n",
    "$$\n",
    "\n",
    "The objective of the sliding mode controller is to choose an input $u$ for each choice of $\\alpha$ s.t. system trajectories are driven to the sliding manifold ($s_\\alpha=0$) in finite time, which is then asymptotically driven to zero. This is done by choosing the following control inputs, with $k_\\alpha$ a scalar tuning gain:\n",
    "$$\n",
    "\\begin{align}\n",
    "u_1 &= - \\frac{m}{\\cos\\phi\\cos\\theta}\\left[ -g +\\ddot{r}_z^d +\\lambda_{r_z}\\dot{e}_{r_z} + k_{r_z}\\text{sgn}(s_{r_z})\\right] \\label{eq:shaik-u1} \\\\\n",
    "u_2 &= J_x\\left[ -\\frac{J_y - J_z}{J_x} qr + \\ddot\\phi^d + \\lambda_\\phi \\dot{e}_\\phi + k_\\phi \\text{sgn}(s_\\phi)\\right] \\\\\n",
    "u_3 &= J_y\\left[ -\\frac{J_z - J_x}{J_y} pr + \\ddot\\theta^d + \\lambda_\\theta \\dot{e}_\\theta + k_\\theta \\text{sgn}(s_\\theta)\\right] \\\\\n",
    "u_4 &= J_z\\left[ -\\frac{J_x - J_y}{J_z} pq + \\ddot\\psi^d + \\lambda_\\psi \\dot{e}_\\psi + k_\\psi \\text{sgn}(s_\\psi)\\right]. \\label{eq:shaik-u4}\n",
    "\\end{align}\n",
    "$$"
   ]
  },
  {
   "cell_type": "markdown",
   "metadata": {},
   "source": [
    "## Discussion of Shaik's Implementation\n",
    "\n",
    "Note that in [1], a right-handed coordinate frame with $z$ up is used (as opposed to NED, which is used in this series of notebooks). Therefore, the body coordinate frame is a front-left-up (FLU). As a result, the sign of equation \\eqref{eq:shaik-u1} is different than $U_4$ in the paper. Also notice that in this notebook we have used $u_1$ for the force equation corresponding to thrust.\n",
    "\n",
    "The sign issue can be more easily seen if fill in some of the gaps in Shaik's paper. Consider equation (15) of Shaik, which is a common sliding surface definition. Note how the sliding surface is $s_\\alpha = \\dot{e}_\\alpha - \\phi(e_\\alpha) = 0$, where $\\phi(e_\\alpha) = -\\lambda_\\alpha e_\\alpha$ is a linear control law, resulting in $s_\\alpha = \\dot{e}_\\alpha + \\lambda_\\alpha e_\\alpha$.\n",
    "\n",
    "Now that we have identified a sliding surface such that $e_\\alpha \\to 0$ when the system is steered to the surface, we need to choose an input $u_\\alpha$ to drive all system trajectories to the surface $s_\\alpha=0$. Choosing the Lyapunov function $V = \\frac{1}{2}s_\\alpha^2$, we desire that $\\dot{V} = s_\\alpha\\dot{s}_\\alpha < 0$. The time-derivative of $s_\\alpha$ is\n",
    "\\begin{align}\n",
    "\\dot{s}_\\alpha &= \\ddot{e}_\\alpha + \\lambda_\\alpha \\dot{e}_\\alpha \\\\\n",
    "&= \\ddot{\\alpha}^d - \\ddot{\\alpha} + \\lambda_\\alpha \\dot{e}_\\alpha \\\\\n",
    "&= \\ddot{\\alpha}^d - f(\\alpha, u_\\alpha) + \\lambda_\\alpha \\dot{e}_\\alpha \\\\\n",
    "&= \\ddot{\\alpha}^d - f_1(\\alpha) - bu_\\alpha + \\lambda_\\alpha \\dot{e}_\\alpha.  \\quad \\text{*} \\label{eq:sdot}\n",
    "\\end{align}\n",
    "\n",
    "Note that in step $\\text{*}$ we have assumed that the dynamics $f(\\alpha, u_\\alpha)$ are linear in the control input $u_\\alpha$. That is, $\\;f(\\alpha, u_\\alpha) = f_1(\\alpha) + bu_\\alpha$. Here, we have a choice (see [2, p565]) on whether we design a control $u_\\alpha$ that has only a switching component, or we may also add a continuous component that cancels any of the known quantities in \\eqref{eq:sdot}. Given that we know the dynamics (albeit, with some uncertainty), we design a control that has the switching component $\\beta(e_\\alpha) sgn(s_\\alpha)$ and a continuous component to cancel out what we know. Therefore, our designed control input is\n",
    "$$\n",
    "\\begin{equation}\n",
    "u_\\alpha = \\frac{1}{b}\\left[\\underbrace{\\ddot{\\alpha}^d - f_1(\\alpha) + \\lambda_\\alpha \\dot{e}_\\alpha}_{continuous} + \\underbrace{k_\\alpha \\text{sgn}(s_\\alpha)}_{switching}\\right].\n",
    "\\end{equation}\n",
    "$$\n",
    "\n",
    "The switching component is a fundamental aspect of sliding mode control. Its purpose is ensure that $\\dot{V} = s_\\alpha\\dot{s}_\\alpha < -\\eta \\left|s_\\alpha\\right| < 0$ for some value of $\\eta$. See Khalil p552 [2] for more information."
   ]
  },
  {
   "cell_type": "code",
   "execution_count": 2,
   "metadata": {},
   "outputs": [],
   "source": [
    "%%capture\n",
    "# Load the quadrotor simulator from a previous notebook\n",
    "%run quadsim.ipynb"
   ]
  },
  {
   "cell_type": "code",
   "execution_count": 3,
   "metadata": {},
   "outputs": [],
   "source": [
    "class DirtyDerivative:\n",
    "    \"\"\"Dirty Derivative\n",
    "    \n",
    "    Provides nth-order derivatives of a signal.\n",
    "    \n",
    "    This class creates a filtered derivative based on a\n",
    "    band-limited low-pass filter with transfer function:\n",
    "    \n",
    "        P(s) = s/(tau + s)\n",
    "        \n",
    "    This is done because a pure differentiator (D(s) = s)\n",
    "    is not causal.    \n",
    "    \"\"\"\n",
    "    def __init__(self, tau=0.05):\n",
    "        # time constant of dirty-derivative filter\n",
    "        # Higher leads to increased smoothing (i.e., more lag)\n",
    "        self.tau = tau\n",
    "        \n",
    "        # internal memory for lagged signal value\n",
    "        self.x_d1 = np.array([0])\n",
    "        \n",
    "        # Current value of derivative\n",
    "        self.dxdt = np.array([0])\n",
    "        \n",
    "    def update(self, x, Ts):\n",
    "        # Calculate digital derivative constants\n",
    "        a1 = (2*self.tau - Ts)/(2*self.tau + Ts)\n",
    "        a2 = 2/(2*self.tau + Ts)\n",
    "        \n",
    "        if self.x_d1.shape != x.shape:\n",
    "            self.x_d1 = np.zeros(x.shape)\n",
    "        \n",
    "        # calculate derivative\n",
    "        self.dxdt = a1*self.dxdt + a2*(x - self.x_d1)\n",
    "        \n",
    "        # store value for next time\n",
    "        self.x_d1 = x\n",
    "        \n",
    "        return self.dxdt"
   ]
  },
  {
   "cell_type": "code",
   "execution_count": 4,
   "metadata": {},
   "outputs": [],
   "source": [
    "%matplotlib inline\n",
    "import numpy as np\n",
    "import matplotlib.pyplot as plt\n",
    "\n",
    "def sat(v):\n",
    "    return v if np.abs(v) <= 1 else np.sign(v)\n",
    "\n",
    "class ShaikSMC(Controller):\n",
    "    \"\"\"Sliding Mode Controller\n",
    "    \"\"\"\n",
    "    def __init__(self):\n",
    "        self.name = \"Shaik SMC\"\n",
    "        \n",
    "        # dirty derivative filters\n",
    "        self.dZdt = DirtyDerivative(0.05)\n",
    "        self.dZdt2 = DirtyDerivative(0.05)\n",
    "        self.dphdt = DirtyDerivative(0.05)\n",
    "        self.dphdt2 = DirtyDerivative(0.05)\n",
    "        self.dthdt = DirtyDerivative(0.05)\n",
    "        self.dthdt2 = DirtyDerivative(0.05)\n",
    "        self.dpsdt = DirtyDerivative(0.05)\n",
    "        self.dpsdt2 = DirtyDerivative(0.05)\n",
    "        \n",
    "        # estimates of the physical properties of the quadrotor\n",
    "        self.g = 9.8\n",
    "        self.mass = 4\n",
    "#         Jxx = 0.060224; Jyy = 0.122198; Jzz = 0.132166\n",
    "        Jxx = 0.1; Jyy = 0.1; Jzz = 0.1\n",
    "        self.I = np.array([[Jxx,0,0],\n",
    "                           [0,Jyy,0],\n",
    "                           [0,0,Jzz]])\n",
    "        \n",
    "    def inner(self, commanded, state, Ts):\n",
    "        # Transform the system into the form of HK (14.4) and (14.5)\n",
    "        eta = np.array([state.flatten()[[2, 6, 7, 8]]]).T # r_z, ph, th, ps\n",
    "        xi = np.array([state.flatten()[[5, 9, 10, 11]]]).T # \\dot{r_z}, p, q, r\n",
    "        \n",
    "        ph = eta.flatten()[1]\n",
    "        th = eta.flatten()[2]\n",
    "        ps = eta.flatten()[3]\n",
    "        \n",
    "        Jx = self.I[0,0]\n",
    "        Jy = self.I[1,1]\n",
    "        Jz = self.I[2,2]\n",
    "        \n",
    "        #\n",
    "        # r_z\n",
    "        #\n",
    "\n",
    "        # Desired\n",
    "        des_Z = commanded[0]\n",
    "        des_Zdot = self.dZdt.update(des_Z, Ts)\n",
    "        des_Zddot = self.dZdt2.update(des_Zdot, Ts)\n",
    "\n",
    "        # Gains\n",
    "        lam_Z = 3\n",
    "        kZ = 6\n",
    "        \n",
    "        # error\n",
    "        e_Z = des_Z - eta[0]\n",
    "        e_Zdot = des_Zdot - xi[0]\n",
    "        \n",
    "\n",
    "        sZ = e_Zdot + lam_Z*e_Z\n",
    "#         u1 = -self.mass/(np.cos(ph)*np.cos(th))*(-self.g + des_Zddot + lam_Z*e_Zdot + kZ*np.sign(sZ))\n",
    "        u1 = -self.mass/(np.cos(ph)*np.cos(th))*(-self.g + des_Zddot + lam_Z*e_Zdot + kZ*sat(sZ/0.5))\n",
    "\n",
    "        #\n",
    "        # \\phi\n",
    "        #\n",
    "        \n",
    "        # Desired\n",
    "        des_ph = commanded[1]\n",
    "        des_phdot = self.dphdt.update(des_ph, Ts)\n",
    "        des_phddot = self.dphdt2.update(des_phdot, Ts)\n",
    "\n",
    "        # Gains\n",
    "        lam_ph = 3\n",
    "        kph = 1\n",
    "        \n",
    "        # error\n",
    "        e_ph = des_ph - eta[1]\n",
    "        e_phdot = des_phdot - xi[1]\n",
    "        \n",
    "        sph = e_phdot + lam_ph*e_ph       \n",
    "        u2 = Jx*(-(Jy-Jz)/Jx*xi[2]*xi[3] + des_phddot + lam_ph*e_phdot + kph*np.sign(sph))\n",
    "        \n",
    "        #\n",
    "        # \\theta\n",
    "        #\n",
    "        \n",
    "        # Desired\n",
    "        des_th = commanded[2]\n",
    "        des_thdot = self.dthdt.update(des_th, Ts)\n",
    "        des_thddot = self.dthdt2.update(des_thdot, Ts)\n",
    "\n",
    "        # Gains\n",
    "        lam_th = 3\n",
    "        kth = 1\n",
    "        \n",
    "        # error\n",
    "        e_th = des_th - eta[2]\n",
    "        e_thdot = des_thdot - xi[2]\n",
    "        \n",
    "        sth = e_thdot + lam_th*e_th       \n",
    "        u3 = Jy*(-(Jz-Jx)/Jy*xi[1]*xi[3] + des_thddot + lam_th*e_thdot + kth*np.sign(sth))\n",
    "        \n",
    "        #\n",
    "        # \\psi\n",
    "        #\n",
    "        \n",
    "        # Desired\n",
    "        des_ps = commanded[3]\n",
    "        des_psdot = self.dpsdt.update(des_ps, Ts)\n",
    "        des_psddot = self.dpsdt2.update(des_psdot, Ts)\n",
    "\n",
    "        # Gains\n",
    "        lam_ps = 3\n",
    "        kps = 1\n",
    "        \n",
    "        # error\n",
    "        e_ps = des_ps - eta[3]\n",
    "        e_psdot = des_psdot - xi[3]\n",
    "        \n",
    "        sps = e_psdot + lam_ps*e_ps       \n",
    "        u4 = Jz*((Jx-Jy)/Jz*xi[1]*xi[2] + des_psddot + lam_ps*e_psdot + kps*np.sign(sps))\n",
    "              \n",
    "        u = np.hstack(np.array([u1,u2,u3,u4]))\n",
    "        \n",
    "        return u\n",
    "    \n",
    "    def outer(self):\n",
    "        pass\n",
    "    \n",
    "    def update(self, commanded, state, Ts):\n",
    "        \n",
    "        #\n",
    "        # Outer Loop\n",
    "        #\n",
    "        \n",
    "        #\n",
    "        # Inner Loop\n",
    "        #\n",
    "        \n",
    "        cmd = commanded[[2,6,7,8]]\n",
    "        \n",
    "        u = self.inner(cmd, state, Ts)\n",
    "        \n",
    "        # actuator commands\n",
    "        return u, commanded"
   ]
  },
  {
   "cell_type": "code",
   "execution_count": 5,
   "metadata": {
    "scrolled": false
   },
   "outputs": [
    {
     "data": {
      "image/png": "[encoded data removed]",
      "text/plain": [
       "<matplotlib.figure.Figure at 0x7f171e32d940>"
      ]
     },
     "metadata": {},
     "output_type": "display_data"
    },
    {
     "data": {
      "image/png": "[encoded data removed]",
      "text/plain": [
       "<matplotlib.figure.Figure at 0x7f171e588898>"
      ]
     },
     "metadata": {},
     "output_type": "display_data"
    },
    {
     "name": "stdout",
     "output_type": "stream",
     "text": [
      "Quadrotor state after 2000 iters:\n",
      "\tr:     [[ 144.763  6.967 -0.013]].T\n",
      "\tPhi:   [[-0.002 -0.001 -0.001]].T\n",
      "\tv:     [[ 7.594  0.201  0.000]].T\n",
      "\tomega: [[ 0.009 -0.004 -0.004]].T\n",
      "\n"
     ]
    }
   ],
   "source": [
    "# Instantiate a quadrotor model with the given initial conditions\n",
    "quad = Quadrotor(r=np.array([[0],[0],[10]]),\n",
    "                 v=np.array([[0],[0],[0]]),\n",
    "               Phi=np.array([[0.2],[-0.5],[-0.2]]))\n",
    "\n",
    "# Instantiate the SMC controller\n",
    "ctrl = ShaikSMC()\n",
    "\n",
    "# Setup a setpoint commander\n",
    "cmdr = Commander(default=True)\n",
    "\n",
    "# Run the simulation\n",
    "sim = Simulator(quad, ctrl, cmdr=cmdr)\n",
    "sim.run(20, Ts=0.01)\n",
    "sim.plot()\n",
    "\n",
    "print(sim.quad)"
   ]
  },
  {
   "cell_type": "markdown",
   "metadata": {},
   "source": [
    "## References\n",
    "\n",
    "[1] M. K. Shaik and J. F. Whidborne, “Robust Sliding Mode Control of a Quadrotor,” 11th Int. Conf. Control, pp. 1–5, 2016.\n",
    "\n",
    "[2] H. K. Khalil, Nonlinear Systems. Princeton, NJ: Prentice Hall, 2002."
   ]
  }
 ],
 "metadata": {
  "kernelspec": {
   "display_name": "Python 3",
   "language": "python",
   "name": "python3"
  },
  "language_info": {
   "codemirror_mode": {
    "name": "ipython",
    "version": 3
   },
   "file_extension": ".py",
   "mimetype": "text/x-python",
   "name": "python",
   "nbconvert_exporter": "python",
   "pygments_lexer": "ipython3",
   "version": "3.5.2"
  },
  "latex_envs": {
   "LaTeX_envs_menu_present": true,
   "autoclose": false,
   "autocomplete": true,
   "bibliofile": "biblio.bib",
   "cite_by": "apalike",
   "current_citInitial": 1,
   "eqLabelWithNumbers": true,
   "eqNumInitial": 1,
   "hotkeys": {
    "equation": "Ctrl-E",
    "itemize": "Ctrl-I"
   },
   "labels_anchors": false,
   "latex_user_defs": false,
   "report_style_numbering": false,
   "user_envs_cfg": false
  },
  "varInspector": {
   "cols": {
    "lenName": 16,
    "lenType": 16,
    "lenVar": 40
   },
   "kernels_config": {
    "python": {
     "delete_cmd_postfix": "",
     "delete_cmd_prefix": "del ",
     "library": "var_list.py",
     "varRefreshCmd": "print(var_dic_list())"
    },
    "r": {
     "delete_cmd_postfix": ") ",
     "delete_cmd_prefix": "rm(",
     "library": "var_list.r",
     "varRefreshCmd": "cat(var_dic_list()) "
    }
   },
   "types_to_exclude": [
    "module",
    "function",
    "builtin_function_or_method",
    "instance",
    "_Feature"
   ],
   "window_display": false
  }
 },
 "nbformat": 4,
 "nbformat_minor": 2
}
