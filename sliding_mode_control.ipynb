{
 "cells": [
  {
   "cell_type": "code",
   "execution_count": 1,
   "metadata": {},
   "outputs": [
    {
     "data": {
      "text/html": [
       "<style>.impl-inner{background-color:#e4ffe6} .impl-outer{background-color:#e4ebff} .text_cell_render p { text-align: justify; text-justify: inter-word;}</style>"
      ],
      "text/plain": [
       "<IPython.core.display.HTML object>"
      ]
     },
     "execution_count": 1,
     "metadata": {},
     "output_type": "execute_result"
    }
   ],
   "source": [
    "from IPython.core.display import HTML\n",
    "HTML('<style>.impl-inner{background-color:#e4ffe6} .impl-outer{background-color:#e4ebff} .text_cell_render p { text-align: justify; text-justify: inter-word;}</style>')"
   ]
  },
  {
   "cell_type": "markdown",
   "metadata": {},
   "source": [
    "# Sliding Mode Control\n"
   ]
  },
  {
   "cell_type": "markdown",
   "metadata": {},
   "source": [
    "This discussion on sliding mode control for a multirotor closely follows the work of L'Afflitto et al. [1], in the notation of Khalil [2]. A diagram of the control scheme (taken from [1]) is shown below. In sliding mode control, trajectories of the system are steered to a subspace of the state space (i.e., the sliding manifold) in finite time. Once on this sliding surface, the system can asymptotically converge to the origin without regard to matched uncertainties. In [1], the control architecture shown below is used with sliding mode control to design an autopilot that steers a quadrotor to a given location with a given yaw angle."
   ]
  },
  {
   "cell_type": "markdown",
   "metadata": {},
   "source": [
    "![Control Scheme Diagram](assets/smc_control_scheme.png)"
   ]
  },
  {
   "cell_type": "markdown",
   "metadata": {},
   "source": [
    "## Stabilization\n",
    "\n",
    "Consider a nonlinear system of the form\n",
    "\\begin{equation}\\label{eq:general_nonlinear_sys}\n",
    "\\dot{x} = f(x) + B(x)[G(x)E(x)u + \\delta(t,x,u)],\\quad x \\in \\mathbb{R}^n, \\ u \\in \\mathbb{R}^p\n",
    "\\end{equation}\n",
    "where $f$, $B$, and $E$ are known, while $G$ and $\\delta$ could be uncertain. We assume that $E(x)$ is a nonsingular matrix and that $G(x)$ is a diagonal matrix whose elements are positive and bounded away from zero.\n",
    "\n",
    "Suppose that $f(0) = 0$ so that, in the absence of $\\delta$, the origin is an open-loop equilibrium point. **Our goal is to design a state feedback control law to stabilize the origin for all uncertainties in $G$ and $\\delta$.**\n",
    "\n",
    "Given a diffeomorphism $T$, \\eqref{eq:general_nonlinear_sys} can be written in *regular form* [1, eq 14.4] as:\n",
    "\\begin{align}\n",
    "\\dot\\eta &= f_a(\\eta, \\xi) \\label{eq:normal-eta} \\\\\n",
    "\\dot\\xi  &= f_b(\\eta, \\xi) + G(x)E(x)u + \\delta(t, x, u). \\label{eq:normal-xi}\n",
    "\\end{align}\n",
    "\n",
    "Note that a large class of mechanical systems may be written in regular form, with the kinematics captured by \\eqref{eq:normal-eta} and the dynamics captured by \\eqref{eq:normal-xi}. This is great because kinematics are typically assumed to be perfectly known, while the dynamics of a system are subject to modeling errors and uncertainties in the system's inertial properties [1]."
   ]
  },
  {
   "cell_type": "markdown",
   "metadata": {},
   "source": [
    "In keeping with the architecture in the above figure from [1], we will consider the <span class=\"impl-inner\">inner loop</span> and the <span class=\"impl-outer\">outer loop</span> as separate nonlinear systems, writing each in the form of \\eqref{eq:general_nonlinear_sys} and creating two sliding mode controllers that work together to stabilize the system around trajectories."
   ]
  },
  {
   "cell_type": "markdown",
   "metadata": {},
   "source": [
    "<div class=\"impl-inner\">\n",
    "\n",
    "For the purposes of control, we consider the inner loop kinematics of a quadrotor to be\n",
    "\\begin{align}\n",
    "\\dot{r_z} &= v_z \\\\\n",
    "\\dot{\\phi} &\\approx p \\\\\n",
    "\\dot{\\theta} &\\approx q \\\\\n",
    "\\dot{\\psi} &\\approx r \\\\\n",
    "\\end{align}\n",
    "where we have assumed small angles s.t. $\\Gamma \\approx I_{3 \\times 3}$. The inner loop dynamics are\n",
    "\\begin{align}\n",
    "\\ddot{r_z} &= g - \\frac{F}{m}\\cos\\phi\\cos\\theta \\\\\n",
    "\\dot\\omega &= -I^{-1} (\\omega \\times I\\omega + M).\n",
    "\\end{align}\n",
    "\n",
    "In our specific case, we can express the quadrotor system in the form of \\eqref{eq:general_nonlinear_sys} with the following definitions:\n",
    "\\begin{align}\n",
    "x &\\triangleq\n",
    "\\begin{bmatrix} x_1 & x_2 & x_3 & x_4 & x_5 & x_6 & x_7 & x_8 \\end{bmatrix}^\\top =\n",
    "\\begin{bmatrix} r_z & \\phi & \\theta & \\psi & \\dot{r_z} & p & q & r \\end{bmatrix}^\\top \\\\\n",
    "u &\\triangleq\n",
    "\\begin{bmatrix} u_1 & u_2 & u_3 & u_4 \\end{bmatrix}^\\top =\n",
    "\\begin{bmatrix} F & \\tau_\\phi & \\tau_\\theta & \\tau_\\psi \\end{bmatrix}^\\top.\n",
    "\\end{align}\n",
    "\n",
    "Which evolves as\n",
    "\\begin{align}\\label{eq:inner-loop-dynamics-ss}\n",
    "\\dot{x} =\n",
    "\\begin{bmatrix} \\dot{x_1} \\\\ \\dot{x_2} \\\\ \\dot{x_3} \\\\ \\dot{x_4} \\\\ \\dot{x_5} \\\\ \\dot{x_6} \\\\ \\dot{x_7} \\\\ \\dot{x_8} \\end{bmatrix} =\n",
    "\\begin{bmatrix} \\dot{r_z} \\\\ \\dot\\phi \\\\ \\dot\\theta \\\\ \\dot\\psi \\\\ \\ddot{r_z} \\\\ \\dot{p} \\\\ \\dot{q} \\\\ \\dot{r} \\end{bmatrix} =\n",
    "\\begin{bmatrix}\n",
    "    x_5 \\\\ x_6 \\\\ x_7 \\\\ x_8 \\\\\n",
    "    g - \\frac{u_1}{m}\\cos x_2 \\cos x_3 \\\\\n",
    "    \\frac{J_y - J_z}{J_x} x_7 x_8 + \\frac{1}{J_x} u_2 \\\\\n",
    "    \\frac{J_z - J_x}{J_y} x_6 x_8 + \\frac{1}{J_y} u_3 \\\\\n",
    "    \\frac{J_x - J_y}{J_z} x_6 x_7 + \\frac{1}{J_z} u_4\n",
    "\\end{bmatrix}\n",
    "\\end{align}\n",
    "\n",
    "In order to transform these inner-loop dynamics into the regular form, we must identify the certain and uncertain components. We can break up \\eqref{eq:inner-loop-dynamics-ss} into\n",
    "\\begin{align}\n",
    "\\dot{x} =\n",
    "\\underbrace{\\begin{bmatrix}\n",
    "    x_5 \\\\ x_6 \\\\ x_7 \\\\ x_8 \\\\\n",
    "    g \\\\\n",
    "    \\frac{J_y - J_z}{J_x} x_7 x_8 \\\\\n",
    "    \\frac{J_z - J_x}{J_y} x_6 x_8 \\\\\n",
    "    \\frac{J_x - J_y}{J_z} x_6 x_7\n",
    "\\end{bmatrix}}_{f(x)} +\n",
    "\\underbrace{\\begin{bmatrix}\n",
    "    0_{4\\times 4} \\\\ \\hdashline\n",
    "    I_{4\\times 4}\n",
    "\\end{bmatrix}}_{B(x)}\n",
    "\\left(\n",
    "\\underbrace{\\begin{bmatrix}\n",
    "-\\frac{\\cos x_2\\cos x_3}{m} &0&0&0 \\\\\n",
    "0& \\frac{1}{J_x} &0&0 \\\\\n",
    "0&0& \\frac{1}{J_y} &0 \\\\\n",
    "0&0&0& \\frac{1}{J_z}\n",
    "\\end{bmatrix}}_{G(x)}\n",
    "\\underbrace{\\begin{bmatrix}\n",
    "1&0&0&0 \\\\\n",
    "0&1&0&0 \\\\\n",
    "0&0&1&0 \\\\\n",
    "0&0&0&1\n",
    "\\end{bmatrix}}_{E(x)}\n",
    "\\underbrace{\\begin{bmatrix}\n",
    "u_1 \\\\ u_2 \\\\ u_3 \\\\ u_4\n",
    "\\end{bmatrix}}_{u} +\n",
    "\\underbrace{0_{4\\times 1}}_{\\delta(t, x, u)}\n",
    "\\right).\n",
    "\\end{align}\n",
    "\n",
    "Note how $G(x)$ contains the mass and the inertia terms, which are likely to be uncertain.\n",
    "\n",
    "We then use the identity diffeomorphism $T:D\\to\\mathbb{R}^{n=8}, x\\mapsto x$ to transform this system into the regular form:\n",
    "\\begin{align}\n",
    "\\eta &=\n",
    "\\begin{bmatrix} x_1 & x_2 & x_3 & x_4 \\end{bmatrix}^\\top =\n",
    "\\begin{bmatrix} r_z & \\phi & \\theta & \\psi \\end{bmatrix}^\\top \\in \\mathbb{R}^{n-p=4} \\\\\n",
    "\\xi &=\n",
    "\\begin{bmatrix} x_5 & x_6 & x_7 & x_8 \\end{bmatrix}^\\top =\n",
    "\\begin{bmatrix} \\dot{r_z} & p & q & r \\end{bmatrix}^\\top \\in \\mathbb{R}^{p=4},\n",
    "\\end{align}\n",
    "\n",
    "which evolves as\n",
    "\n",
    "\\begin{align}\n",
    "\\dot\\eta &=\n",
    "\\begin{bmatrix} \\dot{x_1} \\\\ \\dot{x_2} \\\\ \\dot{x_3} \\\\ \\dot{x_4} \\end{bmatrix} =\n",
    "\\begin{bmatrix} x_5 \\\\ x_6 \\\\ x_7 \\\\ x_8 \\end{bmatrix} = f_a(\\eta, \\xi) = \\xi \\\\\n",
    "\\dot\\xi &=\n",
    "\\begin{bmatrix} \\dot{x_5} \\\\ \\dot{x_6} \\\\ \\dot{x_7} \\\\ \\dot{x_8} \\end{bmatrix} =\n",
    "\\underbrace{\\begin{bmatrix}\n",
    "    g \\\\\n",
    "    \\frac{J_y - J_z}{J_x} x_7 x_8 \\\\\n",
    "    \\frac{J_z - J_x}{J_y} x_6 x_8 \\\\\n",
    "    \\frac{J_x - J_y}{J_z} x_6 x_7\n",
    "\\end{bmatrix}}_{f_b(\\eta,\\xi)} +\n",
    "\\underbrace{\\begin{bmatrix}\n",
    "-\\frac{\\cos x_2\\cos x_3}{m} & 0_{1\\times 3} \\\\\n",
    "0_{3\\times 1} & I^{-1}\n",
    "\\end{bmatrix}}_{G(x)}\n",
    "\\underbrace{I_{4\\times 4}}_{E(x)}\n",
    "\\underbrace{\\begin{bmatrix}\n",
    "u_1 \\\\ u_2 \\\\ u_3 \\\\ u_4\n",
    "\\end{bmatrix}}_{u} +\n",
    "\\underbrace{0_{4\\times 1}}_{\\delta(t, x, u)}\n",
    "\\end{align}\n"
   ]
  },
  {
   "cell_type": "markdown",
   "metadata": {},
   "source": [
    "Given a system modelled in regular form, the sliding mode controller can be designed. \n",
    "\n",
    "> We start by selecting the sliding manifold to be $s = \\xi - \\phi(\\eta) = 0$ so that when motion is restricted to the manifold, the reduced-order model $\\dot\\eta = f_a(\\eta, \\phi(\\eta))$ has an asymptotically stable origin. The design of $\\phi(\\eta)$ amounts to solving a stabilization problem for the system $\\dot\\eta = f_a(\\eta,\\xi)$ with $\\xi$ viewed as the control input. This stabilization problem may be solved using any other technique, such as backstepping, feedback linearzation, etc. Upon designing a stabilizing controller $\\phi(\\eta)$, we must design an input $u$ that steers trajectories of $\\dot\\xi$ to the manifold $s=0$ (i.e., steers $\\xi$ to $\\phi(\\eta)$) in finite time and maintains it there for all future time.\n",
    "\n",
    "<p style=\"text-align: right\">Khalil, p. 564 [2]</p>\n",
    "\n",
    "We can achieve this by inspecting the time-evolution of the manifold $s$, which is\n",
    "\\begin{equation}\n",
    "\\dot{s} = f_b(\\eta,\\xi) - \\frac{\\partial\\phi}{\\partial\\eta} f_a(\\eta,\\xi) + G(x)E(x)u + \\delta(t,x,u)\n",
    "\\end{equation}"
   ]
  },
  {
   "cell_type": "code",
   "execution_count": 2,
   "metadata": {},
   "outputs": [],
   "source": [
    "%%capture\n",
    "# Load the quadrotor simulator from a previous notebook\n",
    "%run quadsim.ipynb"
   ]
  },
  {
   "cell_type": "code",
   "execution_count": 3,
   "metadata": {},
   "outputs": [],
   "source": [
    "%matplotlib inline\n",
    "import numpy as np\n",
    "import matplotlib.pyplot as plt\n",
    "\n",
    "class SMC(Controller):\n",
    "    \"\"\"Sliding Mode Controller\n",
    "    \"\"\"\n",
    "    def __init__(self):\n",
    "        self.name = \"SMC\"\n",
    "        \n",
    "        # estimates of the physical properties of the quadrotor\n",
    "        self.g = 9.81\n",
    "        self.mass = 3.81\n",
    "        Jxx = 0.060224; Jyy = 0.122198; Jzz = 0.132166\n",
    "        self.I = np.array([[Jxx,0,0],\n",
    "                           [0,Jyy,0],\n",
    "                           [0,0,Jzz]])\n",
    "        \n",
    "        # proportional control law \\phi(\\eta) that stabilizes the \\dot\\eta = f_a system\n",
    "        self.Keta = 0.01*np.eye(4)\n",
    "        \n",
    "    def fa(self, eta, xi):\n",
    "        return xi\n",
    "    \n",
    "    def fb(self, eta, xi):\n",
    "        # extract omega from xi\n",
    "        omega = xi[1:4]\n",
    "        \n",
    "        r = np.zeros((4,1))\n",
    "        r[0,0] = self.g\n",
    "        r[1:4] = -np.linalg.inv(self.I).dot(np.cross(omega, self.I.dot(omega), axis=0))\n",
    "        return r\n",
    "        \n",
    "    def inner(self, state):\n",
    "        # Transform the system into the form of HK (14.4) and (14.5)\n",
    "        eta = np.array([state.flatten()[[2, 6, 7, 8]]]).T # r_z, ph, th, ps\n",
    "        xi = np.array([state.flatten()[[5, 9, 10, 11]]]).T # \\dot{r_z}, p, q, r\n",
    "        \n",
    "        ph = eta.flatten()[1]\n",
    "        th = eta.flatten()[2]\n",
    "        ps = eta.flatten()[3]\n",
    "        \n",
    "        # Build the L(x) = inv(G(x)) matrix\n",
    "        L = np.eye(4)\n",
    "        L[0, 0] = -self.mass/(np.cos(ph)*np.cos(th)) # TODO: should this negative be there? Should there be a rot matrix?\n",
    "        L[1:4, 1:4] = self.I\n",
    "        \n",
    "        ueq = -L.dot(self.fb(eta, xi) + self.Keta.dot(self.fa(eta, xi)))\n",
    "        \n",
    "        # Build the matrix of sliding surfaces\n",
    "        SS = xi - self.Keta.dot(eta)\n",
    "        \n",
    "        # Gains\n",
    "        Beta = 1*np.eye(4)\n",
    "        \n",
    "        u = ueq + Beta.dot(np.sign(SS))\n",
    "                \n",
    "#         from IPython.core.debugger import set_trace; set_trace()\n",
    "        \n",
    "        return u\n",
    "    \n",
    "    def outer(self):\n",
    "        pass\n",
    "    \n",
    "    def update(self, commanded, state, Ts):\n",
    "        \n",
    "        #\n",
    "        # Outer Loop\n",
    "        #\n",
    "        \n",
    "        #\n",
    "        # Inner Loop\n",
    "        #\n",
    "        u = self.inner(state)\n",
    "#         print(u.T)\n",
    "\n",
    "#         u = np.array([u[0],0,0,0])\n",
    "        \n",
    "        # actuator commands\n",
    "        return u, commanded"
   ]
  },
  {
   "cell_type": "code",
   "execution_count": 4,
   "metadata": {
    "scrolled": false
   },
   "outputs": [
    {
     "data": {
      "image/png": "[encoded data removed]",
      "text/plain": [
       "<matplotlib.figure.Figure at 0x7fbb40a210b8>"
      ]
     },
     "metadata": {},
     "output_type": "display_data"
    },
    {
     "name": "stdout",
     "output_type": "stream",
     "text": [
      "Quadrotor state after 100 iters:\n",
      "\tr:     [[ 0.000  0.000  0.000]].T\n",
      "\tPhi:   [[ 0.000  0.000  3.233]].T\n",
      "\tv:     [[ 0.000  0.000  0.000]].T\n",
      "\tomega: [[ 0.000  0.000  7.529]].T\n",
      "\n"
     ]
    }
   ],
   "source": [
    "quad = Quadrotor(r=np.array([[0],[0],[0]]),\n",
    "                 v=np.array([[0],[0],[0]]),\n",
    "               Phi=np.array([[0],[0],[-0.5]]))\n",
    "sim = Simulator(quad=quad, ctrl=SMC())\n",
    "sim.run(1, Ts=0.01)\n",
    "sim.plot()\n",
    "\n",
    "print(sim.quad)"
   ]
  },
  {
   "cell_type": "markdown",
   "metadata": {},
   "source": [
    "## References\n",
    "\n",
    "[1] A. L’Afflitto, R. Anderson, and K. Mohammadi, “An Introduction to Nonlinear Robust Control for Unmanned Quadrotor Aircraft,” IEEE Control Syst. Mag., vol. 38, no. June, pp. 102–121, 2018.\n",
    "\n",
    "[2] H. K. Khalil, Nonlinear Systems. Princeton, NJ: Prentice Hall, 2002.\n",
    "\n",
    "[3] M. K. Shaik and J. F. Whidborne, “Robust Sliding Mode Control of a Quadrotor,” 11th Int. Conf. Control, pp. 1–5, 2016."
   ]
  }
 ],
 "metadata": {
  "kernelspec": {
   "display_name": "Python 3",
   "language": "python",
   "name": "python3"
  },
  "language_info": {
   "codemirror_mode": {
    "name": "ipython",
    "version": 3
   },
   "file_extension": ".py",
   "mimetype": "text/x-python",
   "name": "python",
   "nbconvert_exporter": "python",
   "pygments_lexer": "ipython3",
   "version": "3.5.2"
  },
  "latex_envs": {
   "LaTeX_envs_menu_present": true,
   "autoclose": false,
   "autocomplete": true,
   "bibliofile": "biblio.bib",
   "cite_by": "apalike",
   "current_citInitial": 1,
   "eqLabelWithNumbers": true,
   "eqNumInitial": 1,
   "hotkeys": {
    "equation": "Ctrl-E",
    "itemize": "Ctrl-I"
   },
   "labels_anchors": false,
   "latex_user_defs": false,
   "report_style_numbering": false,
   "user_envs_cfg": false
  },
  "varInspector": {
   "cols": {
    "lenName": 16,
    "lenType": 16,
    "lenVar": 40
   },
   "kernels_config": {
    "python": {
     "delete_cmd_postfix": "",
     "delete_cmd_prefix": "del ",
     "library": "var_list.py",
     "varRefreshCmd": "print(var_dic_list())"
    },
    "r": {
     "delete_cmd_postfix": ") ",
     "delete_cmd_prefix": "rm(",
     "library": "var_list.r",
     "varRefreshCmd": "cat(var_dic_list()) "
    }
   },
   "types_to_exclude": [
    "module",
    "function",
    "builtin_function_or_method",
    "instance",
    "_Feature"
   ],
   "window_display": false
  }
 },
 "nbformat": 4,
 "nbformat_minor": 2
}
