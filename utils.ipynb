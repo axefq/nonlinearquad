{
 "cells": [
  {
   "cell_type": "markdown",
   "metadata": {},
   "source": [
    "# Utilities\n",
    "\n",
    "This notebook contains utility code that is useful to multiple notebooks."
   ]
  },
  {
   "cell_type": "markdown",
   "metadata": {},
   "source": [
    "## Derivative Filter\n",
    "\n",
    "In many control schemes that follow trajectories, higher order derivatives are often needed. This section discusses an implementation of a digital derivative based in Laplace system theory.\n",
    "\n",
    "Recall from system theory that the Laplace transform is a useful way of analyzing linear time-invariant (LTI) systems. It takes time-domain systems and expresses them in the Laplace domain (a superset of the Fourier frequency domain). The unilateral Laplace transform is defined by\n",
    "$$\n",
    "\\begin{equation}\n",
    "F(s) = \\int_0^\\infty f(t) e^{-st} dt,\n",
    "\\end{equation}\n",
    "$$\n",
    "where $t$ is a time variable and $s$ is the Laplace variable. This transform can be thought as projecting a time-domain function onto exponentials of varying phase.\n",
    "\n",
    "This transform is particularly useful when analyzing LTI systems of differential equations. In particular, the Laplace transform of the time-derivative of a continuous system $f(t)$ can be found to be\n",
    "$$\n",
    "\\begin{equation}\n",
    "\\frac{d}{dt} f(t) \\stackrel{\\mathcal{L}}{\\rightleftharpoons} sF(s).\n",
    "\\end{equation}\n",
    "$$\n",
    "\n",
    "Therefore, differentiation in the time-domain corresponds to multiplication by $s$ in the Laplace domain. Although a pure derivative in the Laplace domain is causal, it is not realizable (i.e., can you build an RLC circuit that realizes $F(s)=s$?). Therefore, a band-limited derivative (i.e., a *dirty derivative*) is used:\n",
    "$$\n",
    "\\begin{equation}\\label{eq:dirty-derivative}\n",
    "G(s) = \\frac{s}{\\tau s + 1}.\n",
    "\\end{equation}\n",
    "$$\n",
    "\n",
    "From analog filter design, remember that a first-order low-pass filter with cutoff frequency $\\omega_c$ is defined in the Laplace domain as\n",
    "$$\n",
    "\\begin{equation}\\label{eq:lpf}\n",
    "H_{LPF}(s) = \\frac{\\omega_c}{s + \\omega_c} = \\frac{1}{s/\\omega_c + 1},\n",
    "\\end{equation}\n",
    "$$\n",
    "and a first-order high-pass filter is\n",
    "$$\n",
    "\\begin{equation}\\label{eq:hpf}\n",
    "H_{HPF}(s) = \\frac{s}{s + \\omega_c} = \\frac{s/\\omega_c}{s/\\omega_c + 1}.\n",
    "\\end{equation}\n",
    "$$\n",
    "\n",
    "Note that the cutoff frequency is related to the filter time-constant (and RC circuits) by\n",
    "$$\n",
    "\\begin{equation}\n",
    "\\tau = RC = \\frac{1}{2\\pi f_c} = \\frac{1}{\\omega_c}.\n",
    "\\end{equation}\n",
    "$$\n",
    "\n",
    "From this discussion, we can see that the dirty derivative \\eqref{eq:dirty-derivative} can be thought of as a filtered version of a pure derivative with bandwidth $1/\\tau$. This is useful as the LPF will prevent the derivative operator from picking up high-frequency components of the input signal and amplifying noise.\n",
    "\n",
    "A common value of $\\tau$ is $0.5$ ($20$ Hz). A higher $\\tau$ corresponds to less bandwidth and more rejection of high-frequency components, which results in a smoother output.\n",
    "\n",
    "### Digital Implementation\n",
    "\n",
    "In order to implement a derivative filter in a computer, it of course must be discretized. The technique used here is to map $G(s)$ to the $z$-domain via the bilinear transform (AKA, Tustin approximation)\n",
    "$$\n",
    "\\begin{equation}\n",
    "s \\mapsto \\frac{2}{T}\\frac{1-z^{-1}}{1+z^{-1}} ,\n",
    "\\end{equation}\n",
    "$$\n",
    "where $T$ is the sample period. Once we have an expression in the $z$-domain, the inverse $z$-transform can be used to give a discrete-time implementation of the dirty derivative.\n",
    "\n",
    "#### Resources\n",
    "\n",
    "- [SE.DSP: First-Derivative Analog Filter](https://dsp.stackexchange.com/questions/41109/first-derivative-analog-filter)\n",
    "- [Blog: Causal, but not Realizable](http://blog.jafma.net/2015/10/04/differentiation-derivative-is-causal-but-not-exactly-realizable/)"
   ]
  },
  {
   "cell_type": "code",
   "execution_count": 1,
   "metadata": {},
   "outputs": [],
   "source": [
    "class DirtyDerivative:\n",
    "    \"\"\"Dirty Derivative\n",
    "    \n",
    "    Provides a first-order derivative of a signal.\n",
    "    \n",
    "    This class creates a filtered derivative based on a\n",
    "    band-limited low-pass filter with transfer function:\n",
    "    \n",
    "        G(s) = s/(tau*s + 1)\n",
    "        \n",
    "    This is done because a pure differentiator (D(s) = s)\n",
    "    is not realizable.    \n",
    "    \"\"\"\n",
    "    def __init__(self, tau=0.05):\n",
    "        # time constant of dirty-derivative filter.\n",
    "        # Higher leads to increased smoothing.\n",
    "        self.tau = tau\n",
    "        \n",
    "        # internal memory for lagged signal value\n",
    "        self.x_d1 = None\n",
    "        \n",
    "        # Current value of derivative\n",
    "        self.dxdt = None\n",
    "        \n",
    "    def update(self, x, Ts):\n",
    "        # Calculate digital derivative constants\n",
    "        a1 = (2*self.tau - Ts)/(2*self.tau + Ts)\n",
    "        a2 = 2/(2*self.tau + Ts)\n",
    "        \n",
    "        if self.x_d1 is None:\n",
    "            self.x_d1 = np.zeros(x.shape)\n",
    "            self.dxdt = np.zeros(x.shape)\n",
    "        \n",
    "        # calculate derivative\n",
    "        self.dxdt = a1*self.dxdt + a2*(x - self.x_d1)\n",
    "        \n",
    "        # store value for next time\n",
    "        self.x_d1 = x\n",
    "        \n",
    "        return self.dxdt"
   ]
  }
 ],
 "metadata": {
  "kernelspec": {
   "display_name": "Python 3",
   "language": "python",
   "name": "python3"
  },
  "language_info": {
   "codemirror_mode": {
    "name": "ipython",
    "version": 3
   },
   "file_extension": ".py",
   "mimetype": "text/x-python",
   "name": "python",
   "nbconvert_exporter": "python",
   "pygments_lexer": "ipython3",
   "version": "3.5.2"
  },
  "varInspector": {
   "cols": {
    "lenName": 16,
    "lenType": 16,
    "lenVar": 40
   },
   "kernels_config": {
    "python": {
     "delete_cmd_postfix": "",
     "delete_cmd_prefix": "del ",
     "library": "var_list.py",
     "varRefreshCmd": "print(var_dic_list())"
    },
    "r": {
     "delete_cmd_postfix": ") ",
     "delete_cmd_prefix": "rm(",
     "library": "var_list.r",
     "varRefreshCmd": "cat(var_dic_list()) "
    }
   },
   "types_to_exclude": [
    "module",
    "function",
    "builtin_function_or_method",
    "instance",
    "_Feature"
   ],
   "window_display": false
  }
 },
 "nbformat": 4,
 "nbformat_minor": 2
}
