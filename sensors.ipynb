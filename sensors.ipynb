{
 "cells": [
  {
   "cell_type": "code",
   "execution_count": 1,
   "metadata": {},
   "outputs": [],
   "source": [
    "%%capture\n",
    "%run utils.ipynb\n",
    "%run quadrotor_model.ipynb"
   ]
  },
  {
   "cell_type": "markdown",
   "metadata": {},
   "source": [
    "# Sensors\n",
    "\n",
    "This notebook implements the sensors that are used on-board a quadcopter: accelerometer, gyro, GPS, camera, etc. Each sensor implemented herein inherits from the following abstract `Sensor` class and must override the `read` method."
   ]
  },
  {
   "cell_type": "code",
   "execution_count": 2,
   "metadata": {},
   "outputs": [],
   "source": [
    "class Sensor(object):\n",
    "    \"\"\"Sensor\n",
    "    \n",
    "    An abstract base class for all sensors.\n",
    "    \"\"\"\n",
    "    def __init__(self):\n",
    "        self.name = \"Abstract Sensor\"\n",
    "        \n",
    "    def __str__(self):\n",
    "        return self.name\n",
    "    \n",
    "    def read(self, quad, n, Ts):\n",
    "        return 0"
   ]
  },
  {
   "cell_type": "markdown",
   "metadata": {},
   "source": [
    "## Sensor Manager\n",
    "\n",
    "In order to allow flexibility in sensor configurations, a `SensorManager` class is created. A custom set of sensors is registered with the manager for each simulation. During a simulation, the [quadsim](quadsim.ipynb) `Simulator` class asks the sensor manager to produce a data packet that represents the current sensor readings from the suite of on-board sensors."
   ]
  },
  {
   "cell_type": "code",
   "execution_count": 3,
   "metadata": {},
   "outputs": [],
   "source": [
    "class SensorManager(object):\n",
    "    \"\"\"Sensor Manager\n",
    "    \"\"\"\n",
    "    def __init__(self):\n",
    "        # create a list for sensor objects\n",
    "        self.sensors = []\n",
    "    \n",
    "    def register(self, sensor):\n",
    "        self.sensors += [sensor]\n",
    "    \n",
    "    def get_data_packet(self, quad, i, Ts):\n",
    "        # dictionary of sensor data, keyed by sensor name\n",
    "        pkt = {}\n",
    "        \n",
    "        for s in self.sensors:\n",
    "            pkt[s.name] = s.read(quad, i, Ts)\n",
    "            \n",
    "        return pkt"
   ]
  },
  {
   "cell_type": "markdown",
   "metadata": {},
   "source": [
    "## Camera\n",
    "\n",
    "Electro-optical (EO) cameras are extremely useful in autonomy and robotics. Their rich source of visual information enables a wide variety of applications. Robotic vision is a very active research area, with common themes such as: vision-based simultaneous localization and mapping (SLAM), visual-inertial odometry, object recognition with convolutional neural networks, image-based visual servoing, and target tracking.\n",
    "\n",
    "In this simulation, the purpose of the camera is to measure normalized bearing vectors to interesting points such as pixel features, targets, or landmarks. As such, we will focus solely on aspects of camera geometry (as opposed to semantic understanding, pixel intensities, etc). Feature locations in the inertial frame are given to the camera which then projects them onto the pixel plane."
   ]
  },
  {
   "cell_type": "markdown",
   "metadata": {},
   "source": [
    "### Coordinate Frames\n",
    "There are a number of important coordinate frames associated with a camera sensor."
   ]
  },
  {
   "cell_type": "markdown",
   "metadata": {},
   "source": [
    "### Camera Geometry\n",
    "\n",
    "The pinhole camera model is the most commonly used camera model. This allows us to simplify the optical characteristics and focus on the geometry of how 3D objects are imaged. Suppose that the point $P$ exists in 3D space and can be expressed in the inertial frame as $P^i = \\begin{bmatrix} x^i & y^i & z^i\\end{bmatrix}^\\top$. Using the pinhole camera model, the perspective projection model is used to image this point as\n",
    "$$\n",
    "\\begin{equation}\n",
    "\\lambda \\begin{bmatrix} u \\\\ v \\\\ 1 \\end{bmatrix} =\n",
    "\\begin{bmatrix} f_x & 0 & c_x \\\\ 0 & f_y & c_y \\\\ 0 & 0 & 1 \\end{bmatrix}\n",
    "\\left[ R_i^c \\mid t_i^c \\right]\n",
    "\\begin{bmatrix} x^i \\\\ y^i \\\\ z^i \\\\ 1 \\end{bmatrix},\n",
    "\\end{equation}\n",
    "$$\n",
    "where $K$ is the *camera calibration matrix*, *intrinsic camera matrix*, or simply *camera matrix*.\n",
    "\n",
    "This gives a result in pixels in the image plane attached to the camera frame, see the figure below.\n",
    "\n",
    "\n",
    "Written out in component form, the perspective projection equations are\n",
    "$$\n",
    "\\begin{align}\n",
    "u &= fx' + c_x = f\\frac{x}{z} + c_x \\\\\n",
    "v &= fy' + c_y = f\\frac{y}{z} + c_y\n",
    "\\end{align}\n",
    "$$"
   ]
  },
  {
   "cell_type": "markdown",
   "metadata": {},
   "source": [
    "<div style=\"text-align:center\">\n",
    "<img src=\"assets/camera_geometry.svg\" width=\"80%\"/>\n",
    "Figure 1: Camera geometry\n",
    "</div>"
   ]
  },
  {
   "cell_type": "code",
   "execution_count": 46,
   "metadata": {},
   "outputs": [],
   "source": [
    "class Camera(Sensor):\n",
    "    \"\"\"Camera\n",
    "    \"\"\"\n",
    "    def __init__(self, fps=30, size=(800,600), hfovd=33.99, pxnoise=0, tick=None):\n",
    "        self.name = \"Camera\"\n",
    "        \n",
    "        # Register a callback that gets called when a new\n",
    "        # frame is to be registered. The user can use this\n",
    "        # callback to propagate features in the camera's\n",
    "        # FOV. The function can return inertial positions\n",
    "        # to the camera to be imaged and projected onto\n",
    "        # the pixel plane. The function signature is:\n",
    "        #\n",
    "        #     def tick_fn(capture, n, Ts)\n",
    "        #\n",
    "        self.fns = [tick] if tick else []\n",
    "        \n",
    "        # Calculate camera parameters\n",
    "        self.fps = fps\n",
    "        self.size = size\n",
    "        self.hfov = np.radians(hfovd) # angular FOV for width (degrees)\n",
    "        self.f_px = f = (size[0]/2)/np.tan(self.hfov/2)\n",
    "        self.pxnoise_std = pxnoise\n",
    "        cx = size[0]/2\n",
    "        cy = size[1]/2\n",
    "        self.K = np.array([[f, 0, cx],\n",
    "                           [0, f, cy],\n",
    "                           [0, 0, 1]])\n",
    "        \n",
    "        # Camera transformation from quadrotor body frame\n",
    "        self.t = np.zeros((3,1))\n",
    "        self.R = np.eye(3)\n",
    "        \n",
    "        # Last camera measurement\n",
    "        self.meas = None\n",
    "        \n",
    "        # how many sensor reads have there been\n",
    "        self.ticks = 0\n",
    "        \n",
    "    def _camera_projection(self, quad, inertial):\n",
    "        \"\"\"Camera Projection\n",
    "        \n",
    "        Uses the camera matrix to project features onto the pixel plane.\n",
    "        \"\"\"\n",
    "        \n",
    "        # given inertial measurements of features, calculate\n",
    "        # the feature positions in the vehicle frame\n",
    "        p_veh = inertial - quad.r\n",
    "        \n",
    "        # transform to the camera frame\n",
    "        # TODO: Add in translation from body to camera\n",
    "        Rv2b = Rot_v_to_b(*quad.Phi.flatten())\n",
    "        Rb2c = self.R\n",
    "        p_cam = Rb2c.dot(Rv2b.dot(p_veh))\n",
    "        \n",
    "        # perspective transformation using camera matrix\n",
    "        # force homogeneous coordinates (normalize out depth)\n",
    "        hpx = self.K.dot(p_cam)\n",
    "        hpx = hpx / hpx[2,:]\n",
    "        \n",
    "        # extract pixels from homogeneous coordiantes\n",
    "        # and add pixel noise (AWGN)\n",
    "        px = hpx[:2,:]\n",
    "        px += self.pxnoise_std*np.random.randn(*px.shape)\n",
    "        \n",
    "        # TODO: remove measurements outside of FOV\n",
    "        \n",
    "        return px        \n",
    "    \n",
    "    def set_transformation(self, t=None, R=None):\n",
    "        \"\"\"Set Transformation\n",
    "        \n",
    "        Sets the transformation from the quadrotor body frame\n",
    "        to the camera frame. The transformation is represented\n",
    "        as a translation t and rotation R.\n",
    "        \"\"\"\n",
    "        self.t = t if t is not None else np.zeros((3,1))\n",
    "        self.R = R if R is not None else np.eye(3)\n",
    "        \n",
    "    def register_feature(self, feature):\n",
    "        self.fns += [feature.tick]        \n",
    "    \n",
    "    def read(self, quad, n, Ts):\n",
    "        \n",
    "        # empty list of measurements to be filled by tick functions\n",
    "        inertial_measurements = None\n",
    "        \n",
    "        # Call any associated tick functions\n",
    "        capture = True\n",
    "        for fn in self.fns:\n",
    "            data = fn(capture, n, Ts)\n",
    "            if data is not None:\n",
    "                if inertial_measurements is None:\n",
    "                    inertial_measurements = data\n",
    "                else:\n",
    "                    inertial_measurements = np.hstack((inertial_measurements, data))\n",
    "        \n",
    "        # if no measurements were received, bail now\n",
    "        if inertial_measurements is None:\n",
    "            return None\n",
    "        \n",
    "        # Enforce fps (to closest Ts) before doing camera stuff\n",
    "        if np.mod(self.ticks,round(1/(self.fps*Ts))) == 0:\n",
    "            # project inertial measurements onto pixel plane\n",
    "            self.meas = self._camera_projection(quad, inertial_measurements)\n",
    "        \n",
    "        self.ticks += 1\n",
    "        \n",
    "        return self.meas"
   ]
  },
  {
   "cell_type": "code",
   "execution_count": 51,
   "metadata": {
    "scrolled": false
   },
   "outputs": [
    {
     "name": "stdout",
     "output_type": "stream",
     "text": [
      "[[ 554.238  300.000]]\n",
      "[[ 554.238  300.000]]\n",
      "[[ 554.238  300.000]]\n",
      "[[ 554.189  299.589]]\n",
      "[[ 554.189  299.589]]\n",
      "[[ 554.189  299.589]]\n",
      "[[ 554.140  299.178]]\n",
      "[[ 554.140  299.178]]\n",
      "[[ 554.140  299.178]]\n",
      "[[ 554.090  298.768]]\n"
     ]
    }
   ],
   "source": [
    "def target_tick(capture, n, Ts):\n",
    "    \n",
    "    # ellipse\n",
    "    f = 0.01 # Hz\n",
    "    x = 10*np.sin(2*np.pi*f*n*Ts)\n",
    "    y = 5*np.cos(2*np.pi*f*n*Ts)\n",
    "    \n",
    "    return np.array([[x,y,0]]).T\n",
    "\n",
    "camera = Camera(tick=target_tick)\n",
    "camera.set_transformation(R=rot3d(45,0,90))\n",
    "\n",
    "# Instantiate a quadrotor model with the given initial conditions\n",
    "quad = Quadrotor(r=np.array([[-30],[0],[-30]]),\n",
    "                 v=np.array([[0],[0],[0]]),\n",
    "               Phi=np.array([[0],[0],[0]]))\n",
    "\n",
    "# How many iterations are needed\n",
    "Ts = 0.01\n",
    "Tf = 0.1\n",
    "N = int(Tf/Ts)\n",
    "\n",
    "for i in range(N):\n",
    "    x = camera.read(quad, i, Ts)\n",
    "    print(x.T)"
   ]
  },
  {
   "cell_type": "markdown",
   "metadata": {},
   "source": [
    "## Accelerometer"
   ]
  },
  {
   "cell_type": "markdown",
   "metadata": {},
   "source": [
    "## Rate Gyro"
   ]
  },
  {
   "cell_type": "markdown",
   "metadata": {},
   "source": [
    "## GPS"
   ]
  }
 ],
 "metadata": {
  "kernelspec": {
   "display_name": "Python 3",
   "language": "python",
   "name": "python3"
  },
  "language_info": {
   "codemirror_mode": {
    "name": "ipython",
    "version": 3
   },
   "file_extension": ".py",
   "mimetype": "text/x-python",
   "name": "python",
   "nbconvert_exporter": "python",
   "pygments_lexer": "ipython3",
   "version": "3.5.2"
  },
  "varInspector": {
   "cols": {
    "lenName": 16,
    "lenType": 16,
    "lenVar": 40
   },
   "kernels_config": {
    "python": {
     "delete_cmd_postfix": "",
     "delete_cmd_prefix": "del ",
     "library": "var_list.py",
     "varRefreshCmd": "print(var_dic_list())"
    },
    "r": {
     "delete_cmd_postfix": ") ",
     "delete_cmd_prefix": "rm(",
     "library": "var_list.r",
     "varRefreshCmd": "cat(var_dic_list()) "
    }
   },
   "types_to_exclude": [
    "module",
    "function",
    "builtin_function_or_method",
    "instance",
    "_Feature"
   ],
   "window_display": false
  }
 },
 "nbformat": 4,
 "nbformat_minor": 2
}
